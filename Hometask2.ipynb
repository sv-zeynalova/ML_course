{
 "cells": [
  {
   "cell_type": "markdown",
   "id": "76baa269",
   "metadata": {},
   "source": [
    "!pip install pymorphy2\n",
    "!pip install sweetviz"
   ]
  },
  {
   "cell_type": "code",
   "execution_count": 6,
   "id": "dc2dd7fc",
   "metadata": {},
   "outputs": [],
   "source": [
    "import pandas as pd\n",
    "from sklearn.model_selection import train_test_split"
   ]
  },
  {
   "cell_type": "code",
   "execution_count": 7,
   "id": "b053f456",
   "metadata": {},
   "outputs": [],
   "source": [
    "df = pd.read_csv('titanicdf.csv')"
   ]
  },
  {
   "cell_type": "code",
   "execution_count": 8,
   "id": "ce37ccfc",
   "metadata": {},
   "outputs": [
    {
     "data": {
      "application/vnd.jupyter.widget-view+json": {
       "model_id": "97e2fae1fc7c4b418cbf561ed2f01b72",
       "version_major": 2,
       "version_minor": 0
      },
      "text/plain": [
       "                                             |     | [  0%]   00:00 -> (? left)"
      ]
     },
     "metadata": {},
     "output_type": "display_data"
    },
    {
     "name": "stdout",
     "output_type": "stream",
     "text": [
      "Report SWEETVIZ_REPORT.html was generated! NOTEBOOK/COLAB USERS: the web browser MAY not pop up, regardless, the report IS saved in your notebook/colab files.\n"
     ]
    }
   ],
   "source": [
    "import sweetviz as sv\n",
    "\n",
    "my_report = sv.analyze(df)\n",
    "my_report.show_html() "
   ]
  },
  {
   "cell_type": "markdown",
   "id": "f517d708",
   "metadata": {},
   "source": [
    "### Анализируем полученное:\n",
    "### 1)дубликатов нет\n",
    "### 2)есть пропуски в колонке Age -177,Cabin-687, Embarked-2 (Cabin колонку, Embarked строки удалим, Age заменим.\n",
    "### 3) есть колонки с текстом (Name, Sex, Ticket, Embarked ) - преобразовать, но данные по Ticket и Name не коррелируют с Survived, поэтому удалим их."
   ]
  },
  {
   "cell_type": "code",
   "execution_count": 49,
   "id": "c46ae29c",
   "metadata": {},
   "outputs": [],
   "source": [
    "#df.info()"
   ]
  },
  {
   "cell_type": "code",
   "execution_count": 9,
   "id": "cfe6dae7",
   "metadata": {},
   "outputs": [],
   "source": [
    "df.drop_duplicates(inplace=True) #если нужно удалить дубликаты(дубликатов не было)"
   ]
  },
  {
   "cell_type": "code",
   "execution_count": 10,
   "id": "701e9e83",
   "metadata": {},
   "outputs": [],
   "source": [
    "df = df.drop(['Cabin','Name','Ticket'], axis=1) #удалили колонку Cabin, т.к.  много пропусков, также Name,Ticket, т.к. не влияют на показатель Survived"
   ]
  },
  {
   "cell_type": "code",
   "execution_count": 11,
   "id": "a3e21ae6",
   "metadata": {},
   "outputs": [
    {
     "data": {
      "text/html": [
       "<div>\n",
       "<style scoped>\n",
       "    .dataframe tbody tr th:only-of-type {\n",
       "        vertical-align: middle;\n",
       "    }\n",
       "\n",
       "    .dataframe tbody tr th {\n",
       "        vertical-align: top;\n",
       "    }\n",
       "\n",
       "    .dataframe thead th {\n",
       "        text-align: right;\n",
       "    }\n",
       "</style>\n",
       "<table border=\"1\" class=\"dataframe\">\n",
       "  <thead>\n",
       "    <tr style=\"text-align: right;\">\n",
       "      <th></th>\n",
       "      <th>PassengerId</th>\n",
       "      <th>Survived</th>\n",
       "      <th>Pclass</th>\n",
       "      <th>Sex</th>\n",
       "      <th>Age</th>\n",
       "      <th>SibSp</th>\n",
       "      <th>Parch</th>\n",
       "      <th>Fare</th>\n",
       "      <th>Embarked</th>\n",
       "    </tr>\n",
       "  </thead>\n",
       "  <tbody>\n",
       "    <tr>\n",
       "      <th>0</th>\n",
       "      <td>1</td>\n",
       "      <td>0</td>\n",
       "      <td>3</td>\n",
       "      <td>male</td>\n",
       "      <td>22.0</td>\n",
       "      <td>1</td>\n",
       "      <td>0</td>\n",
       "      <td>7.2500</td>\n",
       "      <td>S</td>\n",
       "    </tr>\n",
       "    <tr>\n",
       "      <th>1</th>\n",
       "      <td>2</td>\n",
       "      <td>1</td>\n",
       "      <td>1</td>\n",
       "      <td>female</td>\n",
       "      <td>38.0</td>\n",
       "      <td>1</td>\n",
       "      <td>0</td>\n",
       "      <td>71.2833</td>\n",
       "      <td>C</td>\n",
       "    </tr>\n",
       "    <tr>\n",
       "      <th>2</th>\n",
       "      <td>3</td>\n",
       "      <td>1</td>\n",
       "      <td>3</td>\n",
       "      <td>female</td>\n",
       "      <td>26.0</td>\n",
       "      <td>0</td>\n",
       "      <td>0</td>\n",
       "      <td>7.9250</td>\n",
       "      <td>S</td>\n",
       "    </tr>\n",
       "    <tr>\n",
       "      <th>3</th>\n",
       "      <td>4</td>\n",
       "      <td>1</td>\n",
       "      <td>1</td>\n",
       "      <td>female</td>\n",
       "      <td>35.0</td>\n",
       "      <td>1</td>\n",
       "      <td>0</td>\n",
       "      <td>53.1000</td>\n",
       "      <td>S</td>\n",
       "    </tr>\n",
       "    <tr>\n",
       "      <th>4</th>\n",
       "      <td>5</td>\n",
       "      <td>0</td>\n",
       "      <td>3</td>\n",
       "      <td>male</td>\n",
       "      <td>35.0</td>\n",
       "      <td>0</td>\n",
       "      <td>0</td>\n",
       "      <td>8.0500</td>\n",
       "      <td>S</td>\n",
       "    </tr>\n",
       "    <tr>\n",
       "      <th>...</th>\n",
       "      <td>...</td>\n",
       "      <td>...</td>\n",
       "      <td>...</td>\n",
       "      <td>...</td>\n",
       "      <td>...</td>\n",
       "      <td>...</td>\n",
       "      <td>...</td>\n",
       "      <td>...</td>\n",
       "      <td>...</td>\n",
       "    </tr>\n",
       "    <tr>\n",
       "      <th>886</th>\n",
       "      <td>887</td>\n",
       "      <td>0</td>\n",
       "      <td>2</td>\n",
       "      <td>male</td>\n",
       "      <td>27.0</td>\n",
       "      <td>0</td>\n",
       "      <td>0</td>\n",
       "      <td>13.0000</td>\n",
       "      <td>S</td>\n",
       "    </tr>\n",
       "    <tr>\n",
       "      <th>887</th>\n",
       "      <td>888</td>\n",
       "      <td>1</td>\n",
       "      <td>1</td>\n",
       "      <td>female</td>\n",
       "      <td>19.0</td>\n",
       "      <td>0</td>\n",
       "      <td>0</td>\n",
       "      <td>30.0000</td>\n",
       "      <td>S</td>\n",
       "    </tr>\n",
       "    <tr>\n",
       "      <th>888</th>\n",
       "      <td>889</td>\n",
       "      <td>0</td>\n",
       "      <td>3</td>\n",
       "      <td>female</td>\n",
       "      <td>NaN</td>\n",
       "      <td>1</td>\n",
       "      <td>2</td>\n",
       "      <td>23.4500</td>\n",
       "      <td>S</td>\n",
       "    </tr>\n",
       "    <tr>\n",
       "      <th>889</th>\n",
       "      <td>890</td>\n",
       "      <td>1</td>\n",
       "      <td>1</td>\n",
       "      <td>male</td>\n",
       "      <td>26.0</td>\n",
       "      <td>0</td>\n",
       "      <td>0</td>\n",
       "      <td>30.0000</td>\n",
       "      <td>C</td>\n",
       "    </tr>\n",
       "    <tr>\n",
       "      <th>890</th>\n",
       "      <td>891</td>\n",
       "      <td>0</td>\n",
       "      <td>3</td>\n",
       "      <td>male</td>\n",
       "      <td>32.0</td>\n",
       "      <td>0</td>\n",
       "      <td>0</td>\n",
       "      <td>7.7500</td>\n",
       "      <td>Q</td>\n",
       "    </tr>\n",
       "  </tbody>\n",
       "</table>\n",
       "<p>891 rows × 9 columns</p>\n",
       "</div>"
      ],
      "text/plain": [
       "     PassengerId  Survived  Pclass     Sex   Age  SibSp  Parch     Fare  \\\n",
       "0              1         0       3    male  22.0      1      0   7.2500   \n",
       "1              2         1       1  female  38.0      1      0  71.2833   \n",
       "2              3         1       3  female  26.0      0      0   7.9250   \n",
       "3              4         1       1  female  35.0      1      0  53.1000   \n",
       "4              5         0       3    male  35.0      0      0   8.0500   \n",
       "..           ...       ...     ...     ...   ...    ...    ...      ...   \n",
       "886          887         0       2    male  27.0      0      0  13.0000   \n",
       "887          888         1       1  female  19.0      0      0  30.0000   \n",
       "888          889         0       3  female   NaN      1      2  23.4500   \n",
       "889          890         1       1    male  26.0      0      0  30.0000   \n",
       "890          891         0       3    male  32.0      0      0   7.7500   \n",
       "\n",
       "    Embarked  \n",
       "0          S  \n",
       "1          C  \n",
       "2          S  \n",
       "3          S  \n",
       "4          S  \n",
       "..       ...  \n",
       "886        S  \n",
       "887        S  \n",
       "888        S  \n",
       "889        C  \n",
       "890        Q  \n",
       "\n",
       "[891 rows x 9 columns]"
      ]
     },
     "execution_count": 11,
     "metadata": {},
     "output_type": "execute_result"
    }
   ],
   "source": [
    "df"
   ]
  },
  {
   "cell_type": "code",
   "execution_count": 19,
   "id": "812ca195",
   "metadata": {},
   "outputs": [],
   "source": [
    "# Меняем пропуски в Age на среднее значение в каждой группе (группировка по Sex и Pclass)\n",
    "df_grouped = df.groupby(['Pclass','Sex'])['Age'].mean().reset_index().sort_values(by = 'Sex')"
   ]
  },
  {
   "cell_type": "code",
   "execution_count": 13,
   "id": "b53c86c6",
   "metadata": {},
   "outputs": [],
   "source": [
    "df_all = df.merge(df_grouped, how = 'left', on =  ['Pclass','Sex'])"
   ]
  },
  {
   "cell_type": "code",
   "execution_count": 14,
   "id": "2bfa099a",
   "metadata": {},
   "outputs": [],
   "source": [
    "df_all.loc[df_all.Age_x.isna(),'Age_x'] = df_all.Age_y"
   ]
  },
  {
   "cell_type": "code",
   "execution_count": 15,
   "id": "a6fe43a6",
   "metadata": {},
   "outputs": [],
   "source": [
    "del df_all['Age_y']"
   ]
  },
  {
   "cell_type": "code",
   "execution_count": 16,
   "id": "925da68a",
   "metadata": {},
   "outputs": [],
   "source": [
    "df_all = df_all[~df.Embarked.isna()]#было 2 пропуска в Embarked - удалили 2 строки"
   ]
  },
  {
   "cell_type": "code",
   "execution_count": 17,
   "id": "45902789",
   "metadata": {},
   "outputs": [],
   "source": [
    "#df_all.isna().sum()"
   ]
  },
  {
   "cell_type": "code",
   "execution_count": 18,
   "id": "6ff86dc2",
   "metadata": {},
   "outputs": [],
   "source": [
    "#df_all.info()"
   ]
  },
  {
   "cell_type": "code",
   "execution_count": 20,
   "id": "cc0d2d5c",
   "metadata": {},
   "outputs": [],
   "source": [
    "new_df = pd.get_dummies(data=df_all, columns=['Sex','Embarked']) #преобразовываем текст"
   ]
  },
  {
   "cell_type": "code",
   "execution_count": 21,
   "id": "d48a03aa",
   "metadata": {},
   "outputs": [
    {
     "name": "stdout",
     "output_type": "stream",
     "text": [
      "<class 'pandas.core.frame.DataFrame'>\n",
      "Int64Index: 889 entries, 0 to 890\n",
      "Data columns (total 12 columns):\n",
      " #   Column       Non-Null Count  Dtype  \n",
      "---  ------       --------------  -----  \n",
      " 0   PassengerId  889 non-null    int64  \n",
      " 1   Survived     889 non-null    int64  \n",
      " 2   Pclass       889 non-null    int64  \n",
      " 3   Age_x        889 non-null    float64\n",
      " 4   SibSp        889 non-null    int64  \n",
      " 5   Parch        889 non-null    int64  \n",
      " 6   Fare         889 non-null    float64\n",
      " 7   Sex_female   889 non-null    uint8  \n",
      " 8   Sex_male     889 non-null    uint8  \n",
      " 9   Embarked_C   889 non-null    uint8  \n",
      " 10  Embarked_Q   889 non-null    uint8  \n",
      " 11  Embarked_S   889 non-null    uint8  \n",
      "dtypes: float64(2), int64(5), uint8(5)\n",
      "memory usage: 59.9 KB\n"
     ]
    }
   ],
   "source": [
    "new_df.info()"
   ]
  },
  {
   "cell_type": "markdown",
   "id": "29eaad0e",
   "metadata": {},
   "source": [
    "## Строим модель RandomForestClassifier"
   ]
  },
  {
   "cell_type": "code",
   "execution_count": 23,
   "id": "b848153e",
   "metadata": {},
   "outputs": [],
   "source": [
    "from sklearn.ensemble import RandomForestClassifier\n",
    "from sklearn.datasets import make_classification"
   ]
  },
  {
   "cell_type": "code",
   "execution_count": 24,
   "id": "d3adb7d9",
   "metadata": {},
   "outputs": [],
   "source": [
    "X_train, X_test, y_train, y_test = train_test_split(new_df.drop('Survived',axis=1), new_df['Survived'], test_size=0.25, random_state=777)"
   ]
  },
  {
   "cell_type": "markdown",
   "id": "4c2d1096",
   "metadata": {},
   "source": [
    "#### строим модель с параметрами по умолчанию"
   ]
  },
  {
   "cell_type": "code",
   "execution_count": 25,
   "id": "d6ea0cab",
   "metadata": {},
   "outputs": [],
   "source": [
    "clf = RandomForestClassifier()"
   ]
  },
  {
   "cell_type": "code",
   "execution_count": 26,
   "id": "1769f2a1",
   "metadata": {},
   "outputs": [],
   "source": [
    "model = clf.fit(X_train, y_train)"
   ]
  },
  {
   "cell_type": "code",
   "execution_count": 27,
   "id": "1373ff8f",
   "metadata": {},
   "outputs": [],
   "source": [
    "pred = model.predict(X_test)"
   ]
  },
  {
   "cell_type": "code",
   "execution_count": 33,
   "id": "ab1ebec7",
   "metadata": {},
   "outputs": [],
   "source": [
    "from sklearn.model_selection import train_test_split, cross_val_score, ShuffleSplit\n",
    "from sklearn.metrics import precision_score, recall_score, f1_score, roc_auc_score, roc_curve\n",
    "import matplotlib.pyplot as plt"
   ]
  },
  {
   "cell_type": "code",
   "execution_count": 29,
   "id": "87d8adcb",
   "metadata": {},
   "outputs": [
    {
     "name": "stdout",
     "output_type": "stream",
     "text": [
      "Precision: 0.855072463768116\n",
      "Recall: 0.6210526315789474\n",
      "F1: 0.7195121951219512\n"
     ]
    }
   ],
   "source": [
    "print('Precision:',precision_score(y_test,pred))\n",
    "print('Recall:',recall_score(y_test,pred))\n",
    "print('F1:',f1_score(y_test,pred))\n"
   ]
  },
  {
   "cell_type": "markdown",
   "id": "cb07d656",
   "metadata": {},
   "source": [
    "#### строим модель2 с заданными параметрами (просто наугад)"
   ]
  },
  {
   "cell_type": "code",
   "execution_count": 30,
   "id": "1234ff92",
   "metadata": {},
   "outputs": [],
   "source": [
    "clf2 = RandomForestClassifier(n_estimators=50, criterion='entropy', max_depth=5)"
   ]
  },
  {
   "cell_type": "code",
   "execution_count": 31,
   "id": "97d8732f",
   "metadata": {},
   "outputs": [],
   "source": [
    "model2 = clf2.fit(X_train, y_train)\n",
    "pred2 = model2.predict(X_test)"
   ]
  },
  {
   "cell_type": "code",
   "execution_count": 32,
   "id": "c2342161",
   "metadata": {},
   "outputs": [
    {
     "name": "stdout",
     "output_type": "stream",
     "text": [
      "Precision: 0.8285714285714286\n",
      "Recall: 0.6105263157894737\n",
      "F1: 0.703030303030303\n"
     ]
    }
   ],
   "source": [
    "print('Precision:',precision_score(y_test,pred2))\n",
    "print('Recall:',recall_score(y_test,pred2))\n",
    "print('F1:',f1_score(y_test,pred2))\n",
    "# с заданными параметрами значения метрик получились ниже, поэтому будем подбирать параметры "
   ]
  },
  {
   "cell_type": "markdown",
   "id": "832bda4f",
   "metadata": {},
   "source": [
    "## ROC-AUC"
   ]
  },
  {
   "cell_type": "code",
   "execution_count": 34,
   "id": "294363a7",
   "metadata": {},
   "outputs": [
    {
     "data": {
      "text/plain": [
       "array([1, 1, 0, 0, 0, 0, 0, 1, 0, 0, 0, 1, 0, 0, 0, 0, 0, 1, 0, 1, 0, 1,\n",
       "       0, 0, 0, 1, 0, 0, 0, 0, 0, 0, 0, 0, 0, 1, 1, 1, 0, 0, 0, 0, 0, 1,\n",
       "       0, 1, 0, 0, 1, 0, 0, 0, 0, 1, 0, 0, 0, 0, 0, 1, 1, 0, 1, 0, 0, 0,\n",
       "       0, 1, 1, 0, 1, 0, 1, 1, 1, 0, 1, 0, 1, 0, 1, 0, 1, 0, 0, 0, 1, 0,\n",
       "       0, 1, 0, 0, 0, 1, 0, 0, 1, 0, 1, 0, 0, 1, 0, 0, 0, 0, 0, 0, 1, 1,\n",
       "       0, 0, 0, 0, 0, 0, 0, 0, 1, 0, 1, 1, 0, 0, 1, 0, 0, 0, 0, 0, 1, 1,\n",
       "       1, 0, 0, 1, 0, 0, 0, 1, 0, 0, 0, 1, 0, 0, 0, 0, 0, 0, 0, 1, 0, 0,\n",
       "       1, 1, 0, 0, 1, 0, 0, 0, 0, 0, 0, 0, 0, 0, 1, 1, 0, 1, 0, 0, 0, 1,\n",
       "       1, 0, 1, 1, 0, 0, 0, 0, 0, 0, 1, 0, 0, 1, 0, 1, 0, 0, 1, 0, 0, 0,\n",
       "       1, 1, 1, 0, 1, 1, 0, 0, 1, 0, 0, 1, 0, 0, 0, 0, 1, 0, 0, 0, 0, 0,\n",
       "       0, 0, 0], dtype=int64)"
      ]
     },
     "execution_count": 34,
     "metadata": {},
     "output_type": "execute_result"
    }
   ],
   "source": [
    "model.predict(X_test)"
   ]
  },
  {
   "cell_type": "code",
   "execution_count": 35,
   "id": "6d27a796",
   "metadata": {},
   "outputs": [
    {
     "data": {
      "text/plain": [
       "array([0.69, 0.94, 0.12, 0.36, 0.31, 0.07, 0.33, 0.62, 0.3 , 0.21, 0.19,\n",
       "       0.97, 0.23, 0.02, 0.28, 0.01, 0.04, 0.98, 0.24, 0.51, 0.29, 0.83,\n",
       "       0.  , 0.29, 0.03, 0.59, 0.15, 0.01, 0.06, 0.07, 0.02, 0.05, 0.33,\n",
       "       0.03, 0.03, 0.76, 0.73, 0.85, 0.34, 0.05, 0.04, 0.11, 0.1 , 0.69,\n",
       "       0.01, 0.82, 0.03, 0.08, 0.57, 0.09, 0.05, 0.41, 0.02, 0.74, 0.21,\n",
       "       0.07, 0.21, 0.12, 0.06, 0.77, 0.97, 0.03, 0.88, 0.12, 0.02, 0.12,\n",
       "       0.02, 0.9 , 0.98, 0.08, 0.71, 0.05, 0.93, 0.99, 0.56, 0.34, 0.58,\n",
       "       0.19, 0.64, 0.34, 0.94, 0.37, 0.8 , 0.15, 0.25, 0.03, 0.74, 0.06,\n",
       "       0.22, 0.99, 0.14, 0.02, 0.  , 0.84, 0.02, 0.03, 0.98, 0.44, 0.84,\n",
       "       0.19, 0.35, 0.81, 0.47, 0.28, 0.08, 0.21, 0.03, 0.  , 0.53, 0.93,\n",
       "       0.  , 0.33, 0.08, 0.1 , 0.12, 0.01, 0.48, 0.45, 0.51, 0.01, 0.55,\n",
       "       0.96, 0.12, 0.06, 0.99, 0.16, 0.04, 0.12, 0.  , 0.1 , 0.98, 0.96,\n",
       "       0.96, 0.08, 0.17, 0.96, 0.07, 0.19, 0.22, 1.  , 0.09, 0.02, 0.48,\n",
       "       0.78, 0.09, 0.38, 0.13, 0.04, 0.43, 0.04, 0.02, 0.87, 0.41, 0.06,\n",
       "       0.72, 1.  , 0.01, 0.1 , 0.82, 0.38, 0.44, 0.02, 0.04, 0.16, 0.04,\n",
       "       0.08, 0.08, 0.39, 0.94, 0.66, 0.25, 0.98, 0.06, 0.22, 0.13, 0.87,\n",
       "       0.88, 0.07, 0.85, 0.93, 0.04, 0.04, 0.23, 0.45, 0.33, 0.02, 0.97,\n",
       "       0.12, 0.15, 0.79, 0.1 , 0.88, 0.03, 0.23, 0.6 , 0.37, 0.01, 0.07,\n",
       "       0.97, 0.7 , 0.83, 0.14, 0.59, 0.97, 0.  , 0.04, 0.98, 0.04, 0.1 ,\n",
       "       0.71, 0.06, 0.11, 0.24, 0.01, 0.93, 0.04, 0.04, 0.26, 0.14, 0.13,\n",
       "       0.05, 0.09, 0.04])"
      ]
     },
     "execution_count": 35,
     "metadata": {},
     "output_type": "execute_result"
    }
   ],
   "source": [
    "model.predict_proba(X_test)[:,1]"
   ]
  },
  {
   "cell_type": "code",
   "execution_count": 36,
   "id": "d1db01c7",
   "metadata": {},
   "outputs": [],
   "source": [
    "pred_proba = model.predict_proba(X_test)[:,1]"
   ]
  },
  {
   "cell_type": "code",
   "execution_count": 37,
   "id": "55493d99",
   "metadata": {},
   "outputs": [
    {
     "name": "stdout",
     "output_type": "stream",
     "text": [
      "RandomForestClassifier: ROC AUC=0.865\n"
     ]
    }
   ],
   "source": [
    "fpr, tpr, treshold = roc_curve(y_test, pred_proba)\n",
    "tree_auc = roc_auc_score(y_test, pred_proba)\n",
    "print('RandomForestClassifier: ROC AUC=%.3f' % (tree_auc))"
   ]
  },
  {
   "cell_type": "code",
   "execution_count": 38,
   "id": "e82bfa7b",
   "metadata": {},
   "outputs": [
    {
     "data": {
      "image/png": "[encoded data removed]",
      "text/plain": [
       "<Figure size 600x400 with 1 Axes>"
      ]
     },
     "metadata": {},
     "output_type": "display_data"
    }
   ],
   "source": [
    "roc_auc = auc(fpr, tpr)\n",
    "# строим график\n",
    "plt.plot(fpr, tpr,  color='darkorange',\n",
    "         label='ROC кривая (area = %0.2f)' % roc_auc)\n",
    "plt.plot([0, 1], [0, 1], color='navy', linestyle='--')\n",
    "plt.xlim([0.0, 1.05])\n",
    "plt.ylim([0.0, 1.05])\n",
    "plt.xlabel('False Positive Rate')\n",
    "plt.ylabel('True Positive Rate')\n",
    "plt.title('ROC-кривая модели')\n",
    "plt.legend(loc=\"lower right\")\n",
    "plt.show()\n"
   ]
  },
  {
   "cell_type": "markdown",
   "id": "d7254c35",
   "metadata": {},
   "source": [
    "### Показатель ROC-кривой говорит о высоком качестве классификатора модели. Чем выше площадь под кривой, тем лучше производительность модели."
   ]
  },
  {
   "cell_type": "markdown",
   "id": "c137908d",
   "metadata": {},
   "source": [
    "### Подбираем наилучшие параметры"
   ]
  },
  {
   "cell_type": "code",
   "execution_count": 231,
   "id": "e97b487c",
   "metadata": {},
   "outputs": [],
   "source": [
    "from sklearn.model_selection import GridSearchCV"
   ]
  },
  {
   "cell_type": "code",
   "execution_count": 233,
   "id": "2d9ec335",
   "metadata": {},
   "outputs": [],
   "source": [
    "tree_para = {'n_estimators':[100,130,150,170,190,200,250],\n",
    "             'criterion':['gini','entropy'],\n",
    "             'max_depth':[4,5,6,7,8,9,10,11,12,15,20,30]}"
   ]
  },
  {
   "cell_type": "code",
   "execution_count": 234,
   "id": "ba751af6",
   "metadata": {},
   "outputs": [
    {
     "data": {
      "text/plain": [
       "GridSearchCV(cv=10, estimator=RandomForestClassifier(),\n",
       "             param_grid={'criterion': ['gini', 'entropy'],\n",
       "                         'max_depth': [4, 5, 6, 7, 8, 9, 10, 11, 12, 15, 20,\n",
       "                                       30],\n",
       "                         'n_estimators': [100, 130, 150, 170, 190, 200, 250]},\n",
       "             scoring='recall')"
      ]
     },
     "execution_count": 234,
     "metadata": {},
     "output_type": "execute_result"
    }
   ],
   "source": [
    "clf_gs = GridSearchCV(RandomForestClassifier(), tree_para, cv=10, scoring = 'recall')\n",
    "clf_gs.fit(X_train, y_train)"
   ]
  },
  {
   "cell_type": "code",
   "execution_count": 235,
   "id": "de6aab87",
   "metadata": {},
   "outputs": [
    {
     "data": {
      "text/plain": [
       "{'criterion': 'gini', 'max_depth': 5, 'n_estimators': 130}"
      ]
     },
     "execution_count": 235,
     "metadata": {},
     "output_type": "execute_result"
    }
   ],
   "source": [
    "clf_gs.best_params_ #лучшие параметры для оценки 'recall'"
   ]
  },
  {
   "cell_type": "code",
   "execution_count": 208,
   "id": "7c58692b",
   "metadata": {},
   "outputs": [
    {
     "data": {
      "text/plain": [
       "GridSearchCV(cv=10, estimator=RandomForestClassifier(),\n",
       "             param_grid={'criterion': ['gini', 'entropy'],\n",
       "                         'max_depth': [4, 5, 6, 7, 8, 9, 10, 11, 12, 15, 20, 30,\n",
       "                                       40, 50, 70, 90, 120, 150],\n",
       "                         'n_estimators': [100, 110, 120, 130, 140, 150, 160,\n",
       "                                          170, 180, 190, 200]},\n",
       "             scoring='precision')"
      ]
     },
     "execution_count": 208,
     "metadata": {},
     "output_type": "execute_result"
    }
   ],
   "source": [
    "clf_gs2 = GridSearchCV(RandomForestClassifier(), tree_para, cv=10, scoring = 'precision')\n",
    "clf_gs2.fit(X_train, y_train)"
   ]
  },
  {
   "cell_type": "code",
   "execution_count": 209,
   "id": "ac400174",
   "metadata": {},
   "outputs": [
    {
     "data": {
      "text/plain": [
       "{'criterion': 'gini', 'max_depth': 7, 'n_estimators': 200}"
      ]
     },
     "execution_count": 209,
     "metadata": {},
     "output_type": "execute_result"
    }
   ],
   "source": [
    "clf_gs2.best_params_ # лучшие параметры для оценки 'presicion'"
   ]
  },
  {
   "cell_type": "markdown",
   "id": "35228eac",
   "metadata": {},
   "source": [
    "### Модель с новыми параметрами"
   ]
  },
  {
   "cell_type": "code",
   "execution_count": 236,
   "id": "eeb2fb8c",
   "metadata": {},
   "outputs": [],
   "source": [
    "model_new = RandomForestClassifier(**clf_gs.best_params_)"
   ]
  },
  {
   "cell_type": "code",
   "execution_count": 237,
   "id": "60a7d702",
   "metadata": {},
   "outputs": [
    {
     "data": {
      "text/plain": [
       "RandomForestClassifier(max_depth=5, n_estimators=130)"
      ]
     },
     "execution_count": 237,
     "metadata": {},
     "output_type": "execute_result"
    }
   ],
   "source": [
    "model_new.fit(X_train,y_train)"
   ]
  },
  {
   "cell_type": "code",
   "execution_count": 238,
   "id": "2176fc76",
   "metadata": {},
   "outputs": [],
   "source": [
    "new_pred = model_new.predict(X_test)"
   ]
  },
  {
   "cell_type": "code",
   "execution_count": 239,
   "id": "82824ce5",
   "metadata": {},
   "outputs": [
    {
     "name": "stdout",
     "output_type": "stream",
     "text": [
      "Precision: 0.8656716417910447\n",
      "Recall: 0.6105263157894737\n",
      "F1: 0.7160493827160493\n"
     ]
    }
   ],
   "source": [
    "print('Precision:',precision_score(y_test,new_pred))\n",
    "print('Recall:',recall_score(y_test,new_pred))\n",
    "print('F1:',f1_score(y_test,new_pred))"
   ]
  },
  {
   "cell_type": "code",
   "execution_count": 214,
   "id": "3a7ee1c6",
   "metadata": {},
   "outputs": [],
   "source": [
    "model_new2 = RandomForestClassifier(**clf_gs2.best_params_)"
   ]
  },
  {
   "cell_type": "code",
   "execution_count": 215,
   "id": "668edc9b",
   "metadata": {},
   "outputs": [
    {
     "data": {
      "text/plain": [
       "RandomForestClassifier(max_depth=7, n_estimators=200)"
      ]
     },
     "execution_count": 215,
     "metadata": {},
     "output_type": "execute_result"
    }
   ],
   "source": [
    "model_new2.fit(X_train,y_train)"
   ]
  },
  {
   "cell_type": "code",
   "execution_count": 216,
   "id": "10b42bc4",
   "metadata": {},
   "outputs": [],
   "source": [
    "new_pred2 = model_new2.predict(X_test)"
   ]
  },
  {
   "cell_type": "code",
   "execution_count": 217,
   "id": "1f92960a",
   "metadata": {},
   "outputs": [
    {
     "name": "stdout",
     "output_type": "stream",
     "text": [
      "Precision: 0.8461538461538461\n",
      "Recall: 0.5789473684210527\n",
      "F1: 0.6875\n"
     ]
    }
   ],
   "source": [
    "print('Precision:',precision_score(y_test,new_pred2))\n",
    "print('Recall:',recall_score(y_test,new_pred2))\n",
    "print('F1:',f1_score(y_test,new_pred2))"
   ]
  },
  {
   "cell_type": "markdown",
   "id": "4717a5fd",
   "metadata": {},
   "source": [
    "## Вывод: при подборе параметров значения метрик получились ниже, чем в модели с параметрами по умолчанию???"
   ]
  },
  {
   "cell_type": "markdown",
   "id": "477ec6fe",
   "metadata": {},
   "source": [
    "## Кросс-валидация модели model с параметрами по умолчанию"
   ]
  },
  {
   "cell_type": "code",
   "execution_count": 218,
   "id": "d55e2cf2",
   "metadata": {},
   "outputs": [],
   "source": [
    "cv = ShuffleSplit(n_splits=10, test_size=0.25, random_state=242)\n",
    "scores = cross_val_score(model, X_train, y_train, cv=cv, scoring='precision')"
   ]
  },
  {
   "cell_type": "code",
   "execution_count": 220,
   "id": "d6eda0dd",
   "metadata": {},
   "outputs": [
    {
     "data": {
      "text/plain": [
       "0.8068803248365294"
      ]
     },
     "execution_count": 220,
     "metadata": {},
     "output_type": "execute_result"
    }
   ],
   "source": [
    "scores.mean() #средний показатель метрики 'precision'"
   ]
  },
  {
   "cell_type": "code",
   "execution_count": 221,
   "id": "23e32eb4",
   "metadata": {},
   "outputs": [
    {
     "data": {
      "text/plain": [
       "array([0.84615385, 0.72413793, 0.81481481, 0.9       , 0.71111111,\n",
       "       0.78333333, 0.77966102, 0.875     , 0.76666667, 0.86792453])"
      ]
     },
     "execution_count": 221,
     "metadata": {},
     "output_type": "execute_result"
    }
   ],
   "source": [
    "scores"
   ]
  },
  {
   "cell_type": "code",
   "execution_count": 225,
   "id": "ac5058c0",
   "metadata": {},
   "outputs": [],
   "source": [
    "cv = ShuffleSplit(n_splits=10, test_size=0.25, random_state=242)\n",
    "scores = cross_val_score(model, X_train, y_train, cv=cv, scoring='recall')"
   ]
  },
  {
   "cell_type": "code",
   "execution_count": 226,
   "id": "ffcc2592",
   "metadata": {},
   "outputs": [
    {
     "data": {
      "text/plain": [
       "0.7164021391100522"
      ]
     },
     "execution_count": 226,
     "metadata": {},
     "output_type": "execute_result"
    }
   ],
   "source": [
    "scores.mean() #средний показатель метрики 'recall'"
   ]
  },
  {
   "cell_type": "code",
   "execution_count": 227,
   "id": "d059463c",
   "metadata": {},
   "outputs": [
    {
     "data": {
      "text/plain": [
       "array([0.68181818, 0.71929825, 0.77586207, 0.73972603, 0.62      ,\n",
       "       0.66197183, 0.81355932, 0.71428571, 0.703125  , 0.734375  ])"
      ]
     },
     "execution_count": 227,
     "metadata": {},
     "output_type": "execute_result"
    }
   ],
   "source": [
    "scores"
   ]
  },
  {
   "cell_type": "code",
   "execution_count": 228,
   "id": "d583904c",
   "metadata": {},
   "outputs": [],
   "source": [
    "cv = ShuffleSplit(n_splits=10, test_size=0.25, random_state=242)\n",
    "scores = cross_val_score(model, X_train, y_train, cv=cv, scoring='f1')"
   ]
  },
  {
   "cell_type": "code",
   "execution_count": 229,
   "id": "5e581fa1",
   "metadata": {},
   "outputs": [
    {
     "data": {
      "text/plain": [
       "0.7516593583856943"
      ]
     },
     "execution_count": 229,
     "metadata": {},
     "output_type": "execute_result"
    }
   ],
   "source": [
    "scores.mean() #средний показатель метрики 'f1'"
   ]
  },
  {
   "cell_type": "code",
   "execution_count": 230,
   "id": "d0ea4b90",
   "metadata": {},
   "outputs": [
    {
     "data": {
      "text/plain": [
       "array([0.72881356, 0.71186441, 0.77192982, 0.81481481, 0.68041237,\n",
       "       0.73282443, 0.7768595 , 0.77876106, 0.73770492, 0.7826087 ])"
      ]
     },
     "execution_count": 230,
     "metadata": {},
     "output_type": "execute_result"
    }
   ],
   "source": [
    "scores"
   ]
  },
  {
   "cell_type": "markdown",
   "id": "49a55009",
   "metadata": {},
   "source": [
    "### Еще пробуем подобрать параметры"
   ]
  },
  {
   "cell_type": "code",
   "execution_count": 39,
   "id": "2886efc2",
   "metadata": {},
   "outputs": [],
   "source": [
    "test_deep = []\n",
    "for deep in range (1,31):\n",
    "    for estimator in range (100,200):\n",
    "        clf =  RandomForestClassifier(max_depth=deep, n_estimators=estimator)\n",
    "        model = clf.fit(X_train, y_train)\n",
    "        pred = model.predict(X_test)\n",
    "        test_deep.append([deep, estimator, precision_score(y_test,pred),recall_score(y_test,pred),f1_score(y_test,pred)])"
   ]
  },
  {
   "cell_type": "code",
   "execution_count": 40,
   "id": "2aafac4f",
   "metadata": {},
   "outputs": [],
   "source": [
    "test_deep = pd.DataFrame(test_deep)\n",
    "test_deep.columns = ['max_depth','n_estimators','precision_score','recall_score','f1_score']"
   ]
  },
  {
   "cell_type": "code",
   "execution_count": 41,
   "id": "c8b2b0b4",
   "metadata": {},
   "outputs": [
    {
     "data": {
      "text/html": [
       "<div>\n",
       "<style scoped>\n",
       "    .dataframe tbody tr th:only-of-type {\n",
       "        vertical-align: middle;\n",
       "    }\n",
       "\n",
       "    .dataframe tbody tr th {\n",
       "        vertical-align: top;\n",
       "    }\n",
       "\n",
       "    .dataframe thead th {\n",
       "        text-align: right;\n",
       "    }\n",
       "</style>\n",
       "<table border=\"1\" class=\"dataframe\">\n",
       "  <thead>\n",
       "    <tr style=\"text-align: right;\">\n",
       "      <th></th>\n",
       "      <th>max_depth</th>\n",
       "      <th>n_estimators</th>\n",
       "      <th>precision_score</th>\n",
       "      <th>recall_score</th>\n",
       "      <th>f1_score</th>\n",
       "    </tr>\n",
       "  </thead>\n",
       "  <tbody>\n",
       "    <tr>\n",
       "      <th>606</th>\n",
       "      <td>7</td>\n",
       "      <td>106</td>\n",
       "      <td>0.948276</td>\n",
       "      <td>0.578947</td>\n",
       "      <td>0.718954</td>\n",
       "    </tr>\n",
       "    <tr>\n",
       "      <th>46</th>\n",
       "      <td>1</td>\n",
       "      <td>146</td>\n",
       "      <td>0.936170</td>\n",
       "      <td>0.463158</td>\n",
       "      <td>0.619718</td>\n",
       "    </tr>\n",
       "    <tr>\n",
       "      <th>63</th>\n",
       "      <td>1</td>\n",
       "      <td>163</td>\n",
       "      <td>0.933333</td>\n",
       "      <td>0.442105</td>\n",
       "      <td>0.600000</td>\n",
       "    </tr>\n",
       "    <tr>\n",
       "      <th>509</th>\n",
       "      <td>6</td>\n",
       "      <td>109</td>\n",
       "      <td>0.931034</td>\n",
       "      <td>0.568421</td>\n",
       "      <td>0.705882</td>\n",
       "    </tr>\n",
       "    <tr>\n",
       "      <th>604</th>\n",
       "      <td>7</td>\n",
       "      <td>104</td>\n",
       "      <td>0.931034</td>\n",
       "      <td>0.568421</td>\n",
       "      <td>0.705882</td>\n",
       "    </tr>\n",
       "    <tr>\n",
       "      <th>642</th>\n",
       "      <td>7</td>\n",
       "      <td>142</td>\n",
       "      <td>0.920635</td>\n",
       "      <td>0.610526</td>\n",
       "      <td>0.734177</td>\n",
       "    </tr>\n",
       "    <tr>\n",
       "      <th>436</th>\n",
       "      <td>5</td>\n",
       "      <td>136</td>\n",
       "      <td>0.918033</td>\n",
       "      <td>0.589474</td>\n",
       "      <td>0.717949</td>\n",
       "    </tr>\n",
       "    <tr>\n",
       "      <th>504</th>\n",
       "      <td>6</td>\n",
       "      <td>104</td>\n",
       "      <td>0.916667</td>\n",
       "      <td>0.578947</td>\n",
       "      <td>0.709677</td>\n",
       "    </tr>\n",
       "    <tr>\n",
       "      <th>610</th>\n",
       "      <td>7</td>\n",
       "      <td>110</td>\n",
       "      <td>0.916667</td>\n",
       "      <td>0.578947</td>\n",
       "      <td>0.709677</td>\n",
       "    </tr>\n",
       "    <tr>\n",
       "      <th>59</th>\n",
       "      <td>1</td>\n",
       "      <td>159</td>\n",
       "      <td>0.916667</td>\n",
       "      <td>0.463158</td>\n",
       "      <td>0.615385</td>\n",
       "    </tr>\n",
       "  </tbody>\n",
       "</table>\n",
       "</div>"
      ],
      "text/plain": [
       "     max_depth  n_estimators  precision_score  recall_score  f1_score\n",
       "606          7           106         0.948276      0.578947  0.718954\n",
       "46           1           146         0.936170      0.463158  0.619718\n",
       "63           1           163         0.933333      0.442105  0.600000\n",
       "509          6           109         0.931034      0.568421  0.705882\n",
       "604          7           104         0.931034      0.568421  0.705882\n",
       "642          7           142         0.920635      0.610526  0.734177\n",
       "436          5           136         0.918033      0.589474  0.717949\n",
       "504          6           104         0.916667      0.578947  0.709677\n",
       "610          7           110         0.916667      0.578947  0.709677\n",
       "59           1           159         0.916667      0.463158  0.615385"
      ]
     },
     "execution_count": 41,
     "metadata": {},
     "output_type": "execute_result"
    }
   ],
   "source": [
    "test_deep.sort_values(by='precision_score',ascending=False).head(10)"
   ]
  },
  {
   "cell_type": "code",
   "execution_count": 248,
   "id": "93e14edb",
   "metadata": {},
   "outputs": [
    {
     "data": {
      "text/html": [
       "<div>\n",
       "<style scoped>\n",
       "    .dataframe tbody tr th:only-of-type {\n",
       "        vertical-align: middle;\n",
       "    }\n",
       "\n",
       "    .dataframe tbody tr th {\n",
       "        vertical-align: top;\n",
       "    }\n",
       "\n",
       "    .dataframe thead th {\n",
       "        text-align: right;\n",
       "    }\n",
       "</style>\n",
       "<table border=\"1\" class=\"dataframe\">\n",
       "  <thead>\n",
       "    <tr style=\"text-align: right;\">\n",
       "      <th></th>\n",
       "      <th>max_depth</th>\n",
       "      <th>n_estimators</th>\n",
       "      <th>precision_score</th>\n",
       "      <th>recall_score</th>\n",
       "      <th>f1_score</th>\n",
       "    </tr>\n",
       "  </thead>\n",
       "  <tbody>\n",
       "    <tr>\n",
       "      <th>1226</th>\n",
       "      <td>13</td>\n",
       "      <td>126</td>\n",
       "      <td>0.863014</td>\n",
       "      <td>0.663158</td>\n",
       "      <td>0.750000</td>\n",
       "    </tr>\n",
       "    <tr>\n",
       "      <th>2403</th>\n",
       "      <td>25</td>\n",
       "      <td>103</td>\n",
       "      <td>0.851351</td>\n",
       "      <td>0.663158</td>\n",
       "      <td>0.745562</td>\n",
       "    </tr>\n",
       "    <tr>\n",
       "      <th>2943</th>\n",
       "      <td>30</td>\n",
       "      <td>143</td>\n",
       "      <td>0.840000</td>\n",
       "      <td>0.663158</td>\n",
       "      <td>0.741176</td>\n",
       "    </tr>\n",
       "    <tr>\n",
       "      <th>1817</th>\n",
       "      <td>19</td>\n",
       "      <td>117</td>\n",
       "      <td>0.863014</td>\n",
       "      <td>0.663158</td>\n",
       "      <td>0.750000</td>\n",
       "    </tr>\n",
       "    <tr>\n",
       "      <th>2919</th>\n",
       "      <td>30</td>\n",
       "      <td>119</td>\n",
       "      <td>0.851351</td>\n",
       "      <td>0.663158</td>\n",
       "      <td>0.745562</td>\n",
       "    </tr>\n",
       "    <tr>\n",
       "      <th>2826</th>\n",
       "      <td>29</td>\n",
       "      <td>126</td>\n",
       "      <td>0.840000</td>\n",
       "      <td>0.663158</td>\n",
       "      <td>0.741176</td>\n",
       "    </tr>\n",
       "    <tr>\n",
       "      <th>1115</th>\n",
       "      <td>12</td>\n",
       "      <td>115</td>\n",
       "      <td>0.863014</td>\n",
       "      <td>0.663158</td>\n",
       "      <td>0.750000</td>\n",
       "    </tr>\n",
       "    <tr>\n",
       "      <th>2970</th>\n",
       "      <td>30</td>\n",
       "      <td>170</td>\n",
       "      <td>0.840000</td>\n",
       "      <td>0.663158</td>\n",
       "      <td>0.741176</td>\n",
       "    </tr>\n",
       "    <tr>\n",
       "      <th>1609</th>\n",
       "      <td>17</td>\n",
       "      <td>109</td>\n",
       "      <td>0.851351</td>\n",
       "      <td>0.663158</td>\n",
       "      <td>0.745562</td>\n",
       "    </tr>\n",
       "    <tr>\n",
       "      <th>2645</th>\n",
       "      <td>27</td>\n",
       "      <td>145</td>\n",
       "      <td>0.840000</td>\n",
       "      <td>0.663158</td>\n",
       "      <td>0.741176</td>\n",
       "    </tr>\n",
       "  </tbody>\n",
       "</table>\n",
       "</div>"
      ],
      "text/plain": [
       "      max_depth  n_estimators  precision_score  recall_score  f1_score\n",
       "1226         13           126         0.863014      0.663158  0.750000\n",
       "2403         25           103         0.851351      0.663158  0.745562\n",
       "2943         30           143         0.840000      0.663158  0.741176\n",
       "1817         19           117         0.863014      0.663158  0.750000\n",
       "2919         30           119         0.851351      0.663158  0.745562\n",
       "2826         29           126         0.840000      0.663158  0.741176\n",
       "1115         12           115         0.863014      0.663158  0.750000\n",
       "2970         30           170         0.840000      0.663158  0.741176\n",
       "1609         17           109         0.851351      0.663158  0.745562\n",
       "2645         27           145         0.840000      0.663158  0.741176"
      ]
     },
     "execution_count": 248,
     "metadata": {},
     "output_type": "execute_result"
    }
   ],
   "source": [
    "test_deep.sort_values(by='recall_score',ascending=False).head(10)"
   ]
  },
  {
   "cell_type": "code",
   "execution_count": 249,
   "id": "e8ff1226",
   "metadata": {},
   "outputs": [
    {
     "data": {
      "text/html": [
       "<div>\n",
       "<style scoped>\n",
       "    .dataframe tbody tr th:only-of-type {\n",
       "        vertical-align: middle;\n",
       "    }\n",
       "\n",
       "    .dataframe tbody tr th {\n",
       "        vertical-align: top;\n",
       "    }\n",
       "\n",
       "    .dataframe thead th {\n",
       "        text-align: right;\n",
       "    }\n",
       "</style>\n",
       "<table border=\"1\" class=\"dataframe\">\n",
       "  <thead>\n",
       "    <tr style=\"text-align: right;\">\n",
       "      <th></th>\n",
       "      <th>max_depth</th>\n",
       "      <th>n_estimators</th>\n",
       "      <th>precision_score</th>\n",
       "      <th>recall_score</th>\n",
       "      <th>f1_score</th>\n",
       "    </tr>\n",
       "  </thead>\n",
       "  <tbody>\n",
       "    <tr>\n",
       "      <th>2249</th>\n",
       "      <td>23</td>\n",
       "      <td>149</td>\n",
       "      <td>0.875000</td>\n",
       "      <td>0.663158</td>\n",
       "      <td>0.754491</td>\n",
       "    </tr>\n",
       "    <tr>\n",
       "      <th>1817</th>\n",
       "      <td>19</td>\n",
       "      <td>117</td>\n",
       "      <td>0.863014</td>\n",
       "      <td>0.663158</td>\n",
       "      <td>0.750000</td>\n",
       "    </tr>\n",
       "    <tr>\n",
       "      <th>1115</th>\n",
       "      <td>12</td>\n",
       "      <td>115</td>\n",
       "      <td>0.863014</td>\n",
       "      <td>0.663158</td>\n",
       "      <td>0.750000</td>\n",
       "    </tr>\n",
       "    <tr>\n",
       "      <th>1226</th>\n",
       "      <td>13</td>\n",
       "      <td>126</td>\n",
       "      <td>0.863014</td>\n",
       "      <td>0.663158</td>\n",
       "      <td>0.750000</td>\n",
       "    </tr>\n",
       "    <tr>\n",
       "      <th>1244</th>\n",
       "      <td>13</td>\n",
       "      <td>144</td>\n",
       "      <td>0.873239</td>\n",
       "      <td>0.652632</td>\n",
       "      <td>0.746988</td>\n",
       "    </tr>\n",
       "    <tr>\n",
       "      <th>1956</th>\n",
       "      <td>20</td>\n",
       "      <td>156</td>\n",
       "      <td>0.873239</td>\n",
       "      <td>0.652632</td>\n",
       "      <td>0.746988</td>\n",
       "    </tr>\n",
       "    <tr>\n",
       "      <th>1313</th>\n",
       "      <td>14</td>\n",
       "      <td>113</td>\n",
       "      <td>0.873239</td>\n",
       "      <td>0.652632</td>\n",
       "      <td>0.746988</td>\n",
       "    </tr>\n",
       "    <tr>\n",
       "      <th>2188</th>\n",
       "      <td>22</td>\n",
       "      <td>188</td>\n",
       "      <td>0.873239</td>\n",
       "      <td>0.652632</td>\n",
       "      <td>0.746988</td>\n",
       "    </tr>\n",
       "    <tr>\n",
       "      <th>1609</th>\n",
       "      <td>17</td>\n",
       "      <td>109</td>\n",
       "      <td>0.851351</td>\n",
       "      <td>0.663158</td>\n",
       "      <td>0.745562</td>\n",
       "    </tr>\n",
       "    <tr>\n",
       "      <th>1726</th>\n",
       "      <td>18</td>\n",
       "      <td>126</td>\n",
       "      <td>0.851351</td>\n",
       "      <td>0.663158</td>\n",
       "      <td>0.745562</td>\n",
       "    </tr>\n",
       "  </tbody>\n",
       "</table>\n",
       "</div>"
      ],
      "text/plain": [
       "      max_depth  n_estimators  precision_score  recall_score  f1_score\n",
       "2249         23           149         0.875000      0.663158  0.754491\n",
       "1817         19           117         0.863014      0.663158  0.750000\n",
       "1115         12           115         0.863014      0.663158  0.750000\n",
       "1226         13           126         0.863014      0.663158  0.750000\n",
       "1244         13           144         0.873239      0.652632  0.746988\n",
       "1956         20           156         0.873239      0.652632  0.746988\n",
       "1313         14           113         0.873239      0.652632  0.746988\n",
       "2188         22           188         0.873239      0.652632  0.746988\n",
       "1609         17           109         0.851351      0.663158  0.745562\n",
       "1726         18           126         0.851351      0.663158  0.745562"
      ]
     },
     "execution_count": 249,
     "metadata": {},
     "output_type": "execute_result"
    }
   ],
   "source": [
    "test_deep.sort_values(by='f1_score',ascending=False).head(10)"
   ]
  },
  {
   "cell_type": "code",
   "execution_count": 42,
   "id": "fad58a34",
   "metadata": {},
   "outputs": [],
   "source": [
    "# Строим модель, ориентируясь на метрику precision_score\n",
    "clf3 = RandomForestClassifier(n_estimators=106, criterion='entropy', max_depth=7)\n",
    "model3= clf3.fit(X_train, y_train)\n",
    "pred3 = model3.predict(X_test) "
   ]
  },
  {
   "cell_type": "code",
   "execution_count": 43,
   "id": "f54283ae",
   "metadata": {},
   "outputs": [
    {
     "name": "stdout",
     "output_type": "stream",
     "text": [
      "Precision: 0.9137931034482759\n",
      "Recall: 0.5578947368421052\n",
      "F1: 0.6928104575163399\n"
     ]
    }
   ],
   "source": [
    "print('Precision:',precision_score(y_test,pred3))\n",
    "print('Recall:',recall_score(y_test,pred3))\n",
    "print('F1:',f1_score(y_test,pred3))"
   ]
  },
  {
   "cell_type": "code",
   "execution_count": 44,
   "id": "bd37a076",
   "metadata": {},
   "outputs": [],
   "source": [
    "clf3 = RandomForestClassifier(n_estimators=106, criterion='gini', max_depth=7)\n",
    "model3= clf3.fit(X_train, y_train)\n",
    "pred3 = model3.predict(X_test)"
   ]
  },
  {
   "cell_type": "code",
   "execution_count": 45,
   "id": "dd4131ff",
   "metadata": {},
   "outputs": [
    {
     "name": "stdout",
     "output_type": "stream",
     "text": [
      "Precision: 0.8870967741935484\n",
      "Recall: 0.5789473684210527\n",
      "F1: 0.7006369426751592\n"
     ]
    }
   ],
   "source": [
    "print('Precision:',precision_score(y_test,pred3))\n",
    "print('Recall:',recall_score(y_test,pred3))\n",
    "print('F1:',f1_score(y_test,pred3))"
   ]
  },
  {
   "cell_type": "markdown",
   "id": "d3d8c9f1",
   "metadata": {},
   "source": [
    "### Вывод: при подборе параметров (n_estimators=106, criterion='entropy', max_depth=7), ориентируясь на метрику Precision, model3 имеет максимальное значение данной метрики."
   ]
  }
 ],
 "metadata": {
  "kernelspec": {
   "display_name": "Python 3",
   "language": "python",
   "name": "python3"
  },
  "language_info": {
   "codemirror_mode": {
    "name": "ipython",
    "version": 3
   },
   "file_extension": ".py",
   "mimetype": "text/x-python",
   "name": "python",
   "nbconvert_exporter": "python",
   "pygments_lexer": "ipython3",
   "version": "3.8.8"
  }
 },
 "nbformat": 4,
 "nbformat_minor": 5
}
